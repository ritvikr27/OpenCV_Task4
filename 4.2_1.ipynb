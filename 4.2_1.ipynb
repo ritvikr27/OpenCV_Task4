{
 "cells": [
  {
   "cell_type": "code",
   "execution_count": 10,
   "id": "20e6ca0c",
   "metadata": {},
   "outputs": [],
   "source": [
    "import cv2\n",
    "import numpy"
   ]
  },
  {
   "cell_type": "code",
   "execution_count": 11,
   "id": "0edc12ea",
   "metadata": {},
   "outputs": [],
   "source": [
    "pic1=cv2.imread('Photo1.jpg')"
   ]
  },
  {
   "cell_type": "code",
   "execution_count": 12,
   "id": "29b58216",
   "metadata": {},
   "outputs": [],
   "source": [
    "##Display image 1\n",
    "cv2.imshow('image',pic1)\n",
    "cv2.waitKey()\n",
    "cv2.destroyAllWindows()"
   ]
  },
  {
   "cell_type": "code",
   "execution_count": 13,
   "id": "db526984",
   "metadata": {},
   "outputs": [
    {
     "data": {
      "text/plain": [
       "(1246, 3070, 3)"
      ]
     },
     "execution_count": 13,
     "metadata": {},
     "output_type": "execute_result"
    }
   ],
   "source": [
    "pic1.shape"
   ]
  },
  {
   "cell_type": "code",
   "execution_count": 14,
   "id": "349f84eb",
   "metadata": {},
   "outputs": [],
   "source": [
    "pic2=cv2.imread('Photo2.jpg')"
   ]
  },
  {
   "cell_type": "code",
   "execution_count": 15,
   "id": "79a5f366",
   "metadata": {},
   "outputs": [],
   "source": [
    "##Display image 2\n",
    "cv2.imshow('image',pic2)\n",
    "cv2.waitKey()\n",
    "cv2.destroyAllWindows()"
   ]
  },
  {
   "cell_type": "code",
   "execution_count": 16,
   "id": "682d74ef",
   "metadata": {},
   "outputs": [
    {
     "data": {
      "text/plain": [
       "(720, 1280, 3)"
      ]
     },
     "execution_count": 16,
     "metadata": {},
     "output_type": "execute_result"
    }
   ],
   "source": [
    "pic2.shape"
   ]
  },
  {
   "cell_type": "code",
   "execution_count": 17,
   "id": "86b951f2",
   "metadata": {},
   "outputs": [],
   "source": [
    "#Crop and Swap :1\n",
    "crop1=pic1[100:250,150:250]\n",
    "pic2[100:250,150:250]=crop1\n",
    "cv2.imshow('swap1',pic2)\n",
    "cv2.waitKey()\n",
    "cv2.destroyAllWindows()"
   ]
  },
  {
   "cell_type": "code",
   "execution_count": 18,
   "id": "6f41bd9d",
   "metadata": {},
   "outputs": [],
   "source": [
    "#Crop and Swap :2\n",
    "pic2=cv2.imread('Photo2.jpg')\n",
    "crop2=pic2[200:350,200:350]\n",
    "pic1[200:350,200:350]=crop2\n",
    "cv2.imshow('swap2',pic1)\n",
    "cv2.waitKey()\n",
    "cv2.destroyAllWindows()"
   ]
  },
  {
   "cell_type": "code",
   "execution_count": null,
   "id": "cf90ab4c",
   "metadata": {},
   "outputs": [],
   "source": []
  },
  {
   "cell_type": "code",
   "execution_count": null,
   "id": "fbf5beb9",
   "metadata": {},
   "outputs": [],
   "source": []
  }
 ],
 "metadata": {
  "kernelspec": {
   "display_name": "Python 3",
   "language": "python",
   "name": "python3"
  },
  "language_info": {
   "codemirror_mode": {
    "name": "ipython",
    "version": 3
   },
   "file_extension": ".py",
   "mimetype": "text/x-python",
   "name": "python",
   "nbconvert_exporter": "python",
   "pygments_lexer": "ipython3",
   "version": "3.6.5"
  }
 },
 "nbformat": 4,
 "nbformat_minor": 5
}
