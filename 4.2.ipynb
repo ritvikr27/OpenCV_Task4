{
 "cells": [
  {
   "cell_type": "code",
   "execution_count": 11,
   "id": "5360b67f",
   "metadata": {},
   "outputs": [],
   "source": [
    "import cv2\n",
    "import numpy"
   ]
  },
  {
   "cell_type": "code",
   "execution_count": 12,
   "id": "c8db8868",
   "metadata": {},
   "outputs": [],
   "source": [
    "pic1=cv2.imread('Photo1.jpg')"
   ]
  },
  {
   "cell_type": "code",
   "execution_count": 13,
   "id": "95c4cb1d",
   "metadata": {},
   "outputs": [],
   "source": [
    "#Display image 1\n",
    "cv2.imshow('image',pic1)\n",
    "cv2.waitKey()\n",
    "cv2.destroyAllWindows()"
   ]
  },
  {
   "cell_type": "code",
   "execution_count": 14,
   "id": "7b9e2683",
   "metadata": {},
   "outputs": [
    {
     "data": {
      "text/plain": [
       "(1246, 3070, 3)"
      ]
     },
     "execution_count": 14,
     "metadata": {},
     "output_type": "execute_result"
    }
   ],
   "source": [
    "pic1.shape"
   ]
  },
  {
   "cell_type": "code",
   "execution_count": 5,
   "id": "685e415f",
   "metadata": {},
   "outputs": [],
   "source": [
    "pic2=cv2.imread('Photo2.jpg')"
   ]
  },
  {
   "cell_type": "code",
   "execution_count": 6,
   "id": "a78c2abb",
   "metadata": {},
   "outputs": [],
   "source": [
    "#Display image 2\n",
    "cv2.imshow('image', pic2)\n",
    "cv2.waitKey()\n",
    "cv2.destroyAllWindows()"
   ]
  },
  {
   "cell_type": "code",
   "execution_count": 7,
   "id": "31c4be40",
   "metadata": {},
   "outputs": [
    {
     "data": {
      "text/plain": [
       "(720, 1280, 3)"
      ]
     },
     "execution_count": 7,
     "metadata": {},
     "output_type": "execute_result"
    }
   ],
   "source": [
    "pic2.shape"
   ]
  },
  {
   "cell_type": "code",
   "execution_count": 8,
   "id": "bdb692a3",
   "metadata": {},
   "outputs": [],
   "source": [
    "#Crop and Swap-1\n",
    "crop1=pic1[50:250,40:250]\n",
    "pic2[50:250,40:250]=crop1\n",
    "cv2.imshow('swap1',pic2)\n",
    "cv2.waitKey()\n",
    "cv2.destroyAllWindows()"
   ]
  },
  {
   "cell_type": "code",
   "execution_count": 9,
   "id": "e386559d",
   "metadata": {},
   "outputs": [],
   "source": [
    "#Crop and Swap-2\n",
    "pic2=cv2.imread('Photo2.jpg')\n",
    "crop2=pic2[20:350,20:350]\n",
    "pic1[20:350,20:350]=crop2\n",
    "cv2.imshow('swap2',pic1)\n",
    "cv2.waitKey()\n",
    "cv2.destroyAllWindows()"
   ]
  },
  {
   "cell_type": "code",
   "execution_count": null,
   "id": "c90167e4",
   "metadata": {},
   "outputs": [],
   "source": []
  }
 ],
 "metadata": {
  "kernelspec": {
   "display_name": "Python 3",
   "language": "python",
   "name": "python3"
  },
  "language_info": {
   "codemirror_mode": {
    "name": "ipython",
    "version": 3
   },
   "file_extension": ".py",
   "mimetype": "text/x-python",
   "name": "python",
   "nbconvert_exporter": "python",
   "pygments_lexer": "ipython3",
   "version": "3.6.5"
  }
 },
 "nbformat": 4,
 "nbformat_minor": 5
}
