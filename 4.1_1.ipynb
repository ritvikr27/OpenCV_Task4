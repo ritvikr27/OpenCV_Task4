{
 "cells": [
  {
   "cell_type": "code",
   "execution_count": 1,
   "id": "1ebbe33a",
   "metadata": {},
   "outputs": [],
   "source": [
    "import cv2\n",
    "import numpy"
   ]
  },
  {
   "cell_type": "code",
   "execution_count": 2,
   "id": "3f16d3e2",
   "metadata": {},
   "outputs": [],
   "source": [
    "pic=numpy.zeros((600,600,3))\n",
    "pic[:200,:600]=[255,0,0]\n",
    "pic[200:,:600]=[0,255,0]\n",
    "pic[400:,:600]=[0,0,255]"
   ]
  },
  {
   "cell_type": "code",
   "execution_count": 3,
   "id": "c5f060e0",
   "metadata": {},
   "outputs": [],
   "source": [
    "cv2.imshow('image created',pic)\n",
    "cv2.waitKey()\n",
    "cv2.destroyAllWindows()"
   ]
  },
  {
   "cell_type": "code",
   "execution_count": null,
   "id": "5b39f43a",
   "metadata": {},
   "outputs": [],
   "source": []
  }
 ],
 "metadata": {
  "kernelspec": {
   "display_name": "Python 3",
   "language": "python",
   "name": "python3"
  },
  "language_info": {
   "codemirror_mode": {
    "name": "ipython",
    "version": 3
   },
   "file_extension": ".py",
   "mimetype": "text/x-python",
   "name": "python",
   "nbconvert_exporter": "python",
   "pygments_lexer": "ipython3",
   "version": "3.6.5"
  }
 },
 "nbformat": 4,
 "nbformat_minor": 5
}
