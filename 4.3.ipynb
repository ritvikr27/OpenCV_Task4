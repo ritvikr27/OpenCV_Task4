{
 "cells": [
  {
   "cell_type": "code",
   "execution_count": 1,
   "id": "b4cd5fb5",
   "metadata": {},
   "outputs": [],
   "source": [
    "import cv2\n",
    "import numpy"
   ]
  },
  {
   "cell_type": "code",
   "execution_count": 2,
   "id": "018a4f19",
   "metadata": {},
   "outputs": [],
   "source": [
    "pic1=cv2.imread('Photo3.jpeg')"
   ]
  },
  {
   "cell_type": "code",
   "execution_count": 3,
   "id": "02a8adc9",
   "metadata": {},
   "outputs": [],
   "source": [
    "pic2=cv2.imread('Photo2.jpg')"
   ]
  },
  {
   "cell_type": "code",
   "execution_count": 4,
   "id": "18286955",
   "metadata": {},
   "outputs": [
    {
     "data": {
      "text/plain": [
       "(615, 1000, 3)"
      ]
     },
     "execution_count": 4,
     "metadata": {},
     "output_type": "execute_result"
    }
   ],
   "source": [
    "pic1.shape"
   ]
  },
  {
   "cell_type": "code",
   "execution_count": 5,
   "id": "e8942c6b",
   "metadata": {
    "scrolled": true
   },
   "outputs": [
    {
     "data": {
      "text/plain": [
       "(720, 1280, 3)"
      ]
     },
     "execution_count": 5,
     "metadata": {},
     "output_type": "execute_result"
    }
   ],
   "source": [
    "pic2.shape"
   ]
  },
  {
   "cell_type": "code",
   "execution_count": 6,
   "id": "dbb4281c",
   "metadata": {},
   "outputs": [],
   "source": [
    "#Length should be same for appending horizontally\n",
    "pic2=pic2[:615,:]"
   ]
  },
  {
   "cell_type": "code",
   "execution_count": 7,
   "id": "059d4081",
   "metadata": {},
   "outputs": [
    {
     "data": {
      "text/plain": [
       "(615, 1280, 3)"
      ]
     },
     "execution_count": 7,
     "metadata": {},
     "output_type": "execute_result"
    }
   ],
   "source": [
    "pic2.shape"
   ]
  },
  {
   "cell_type": "code",
   "execution_count": 8,
   "id": "b479386b",
   "metadata": {},
   "outputs": [],
   "source": [
    "#For combining horizontally\n",
    "combine_pic_horizontal=numpy.hstack((pic1,pic2))"
   ]
  },
  {
   "cell_type": "code",
   "execution_count": 9,
   "id": "55da4d67",
   "metadata": {},
   "outputs": [],
   "source": [
    "#Display image\n",
    "cv2.imshow('combine_h', combine_pic_horizontal)\n",
    "cv2.waitKey()\n",
    "cv2.destroyAllWindows()"
   ]
  },
  {
   "cell_type": "code",
   "execution_count": 26,
   "id": "d78c0270",
   "metadata": {},
   "outputs": [],
   "source": [
    "#Width should be same for appending vertically\n",
    "pic2=cv2.imread('Photo2.jpg')\n",
    "pic2=pic2[:,:1000]"
   ]
  },
  {
   "cell_type": "code",
   "execution_count": 27,
   "id": "f9038383",
   "metadata": {},
   "outputs": [],
   "source": [
    "#For combining vertically\n",
    "combine_pic_vertical=numpy.vstack((pic1,pic2))"
   ]
  },
  {
   "cell_type": "code",
   "execution_count": 28,
   "id": "2d7d4fdd",
   "metadata": {},
   "outputs": [],
   "source": [
    "#Display image\n",
    "cv2.imshow('combine_v', combine_pic_vertical)\n",
    "cv2.waitKey()\n",
    "cv2.destroyAllWindows()"
   ]
  },
  {
   "cell_type": "code",
   "execution_count": null,
   "id": "ab14d6ed",
   "metadata": {},
   "outputs": [],
   "source": []
  }
 ],
 "metadata": {
  "kernelspec": {
   "display_name": "Python 3",
   "language": "python",
   "name": "python3"
  },
  "language_info": {
   "codemirror_mode": {
    "name": "ipython",
    "version": 3
   },
   "file_extension": ".py",
   "mimetype": "text/x-python",
   "name": "python",
   "nbconvert_exporter": "python",
   "pygments_lexer": "ipython3",
   "version": "3.6.5"
  }
 },
 "nbformat": 4,
 "nbformat_minor": 5
}
