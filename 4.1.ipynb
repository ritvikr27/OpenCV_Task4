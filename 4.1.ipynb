{
 "cells": [
  {
   "cell_type": "code",
   "execution_count": 1,
   "id": "3975f447",
   "metadata": {},
   "outputs": [],
   "source": [
    "import cv2\n",
    "import numpy"
   ]
  },
  {
   "cell_type": "code",
   "execution_count": 2,
   "id": "601629ec",
   "metadata": {},
   "outputs": [],
   "source": [
    "#Primary color flag: generating for checking color code supported by CV2\n",
    "pic1=numpy.zeros((800,800,3))\n",
    "pic1[:300, :800]=[255,0,0]\n",
    "pic1[300:, :800]=[0,0,255]\n",
    "pic1[500:, :800]=[0,255,0]"
   ]
  },
  {
   "cell_type": "code",
   "execution_count": 3,
   "id": "ac865c73",
   "metadata": {},
   "outputs": [],
   "source": [
    "#Dsiplay the image created\n",
    "cv2.imshow('img created', pic1)\n",
    "cv2.waitKey()\n",
    "cv2.destroyAllWindows()"
   ]
  },
  {
   "cell_type": "code",
   "execution_count": null,
   "id": "d466d534",
   "metadata": {},
   "outputs": [],
   "source": []
  }
 ],
 "metadata": {
  "kernelspec": {
   "display_name": "Python 3",
   "language": "python",
   "name": "python3"
  },
  "language_info": {
   "codemirror_mode": {
    "name": "ipython",
    "version": 3
   },
   "file_extension": ".py",
   "mimetype": "text/x-python",
   "name": "python",
   "nbconvert_exporter": "python",
   "pygments_lexer": "ipython3",
   "version": "3.6.5"
  }
 },
 "nbformat": 4,
 "nbformat_minor": 5
}
